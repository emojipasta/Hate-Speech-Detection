{
 "cells": [
  {
   "cell_type": "markdown",
   "id": "b25d4ae8",
   "metadata": {},
   "source": [
    "### 🔴 Model Deployment -\n",
    "1. Saving & loading the model and vectorizer \n",
    "2. Creating a predict() function for testing \n",
    "3. Making it reusable for web apps / APIs "
   ]
  },
  {
   "cell_type": "code",
   "execution_count": 8,
   "id": "4d548ff7",
   "metadata": {},
   "outputs": [],
   "source": [
    "# Imports\n",
    "import pandas as pd\n",
    "import joblib\n",
    "\n",
    "# Load Model and Vectorizer\n",
    "# Load model\n",
    "model = joblib.load(\"/Users/ratulmukherjee/Desktop/Hate Speech Detection/data/best_model_rf.pkl\")\n",
    "\n",
    "# Load vectorizer\n",
    "vectorizer = joblib.load(\"/Users/ratulmukherjee/Desktop/Hate Speech Detection/data/tfidf_vectorizer.pkl\")\n"
   ]
  },
  {
   "cell_type": "code",
   "execution_count": 9,
   "id": "d3bb5884",
   "metadata": {},
   "outputs": [],
   "source": [
    "# Creating Prediction Function\n",
    "def predict_hate_speech(text):\n",
    "    # Minimal preprocessing (can customize further)\n",
    "    if not text:\n",
    "        return \"Invalid input\"\n",
    "    \n",
    "    # Vectorize\n",
    "    vect_text = vectorizer.transform([text])\n",
    "    \n",
    "    # Predict\n",
    "    prediction = model.predict(vect_text)[0]\n",
    "    \n",
    "    # Map label to class name\n",
    "    label_map = {\n",
    "        0: \"Hate Speech\",\n",
    "        1: \"Offensive Language\",\n",
    "        2: \"Neither\"\n",
    "    }\n",
    "    \n",
    "    return label_map[prediction]\n"
   ]
  },
  {
   "cell_type": "code",
   "execution_count": 10,
   "id": "91e1ed40",
   "metadata": {},
   "outputs": [
    {
     "name": "stdout",
     "output_type": "stream",
     "text": [
      "Prediction 1: Offensive Language\n",
      "Prediction 2: Offensive Language\n",
      "Prediction 3: Neither\n"
     ]
    }
   ],
   "source": [
    "# Testing\n",
    "sample_1 = \"I hate those people!\"\n",
    "sample_2 = \"You're so stupid, man!\"\n",
    "sample_3 = \"It's a beautiful day.\"\n",
    "\n",
    "print(\"Prediction 1:\", predict_hate_speech(sample_1))\n",
    "print(\"Prediction 2:\", predict_hate_speech(sample_2))\n",
    "print(\"Prediction 3:\", predict_hate_speech(sample_3))"
   ]
  },
  {
   "cell_type": "code",
   "execution_count": 11,
   "id": "7861b164",
   "metadata": {},
   "outputs": [],
   "source": [
    "# model_predictor.py\n",
    "import joblib\n",
    "\n",
    "# Load model and vectorizer once\n",
    "model = joblib.load(\"/Users/ratulmukherjee/Desktop/Hate Speech Detection/data/best_model_rf.pkl\")\n",
    "vectorizer = joblib.load(\"/Users/ratulmukherjee/Desktop/Hate Speech Detection/data/tfidf_vectorizer.pkl\")\n",
    "\n",
    "def predict(text):\n",
    "    vect_text = vectorizer.transform([text])\n",
    "    label = model.predict(vect_text)[0]\n",
    "    \n",
    "    label_map = {\n",
    "        0: \"Hate Speech\",\n",
    "        1: \"Offensive Language\",\n",
    "        2: \"Neither\"\n",
    "    }\n",
    "    return label_map[label]\n"
   ]
  },
  {
   "cell_type": "code",
   "execution_count": 12,
   "id": "a348572a",
   "metadata": {},
   "outputs": [
    {
     "name": "stdout",
     "output_type": "stream",
     "text": [
      "Neither\n"
     ]
    }
   ],
   "source": [
    "print(predict(\"Go away, you fool!\"))"
   ]
  }
 ],
 "metadata": {
  "kernelspec": {
   "display_name": "base",
   "language": "python",
   "name": "python3"
  },
  "language_info": {
   "codemirror_mode": {
    "name": "ipython",
    "version": 3
   },
   "file_extension": ".py",
   "mimetype": "text/x-python",
   "name": "python",
   "nbconvert_exporter": "python",
   "pygments_lexer": "ipython3",
   "version": "3.13.5"
  }
 },
 "nbformat": 4,
 "nbformat_minor": 5
}
