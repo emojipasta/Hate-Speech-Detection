{
 "cells": [
  {
   "cell_type": "markdown",
   "id": "39071c5b",
   "metadata": {},
   "source": [
    "### 🔴 Feature Engineering - Vectorization\n",
    "Here, we will transform clean text into numerical feature vectors using methods like TF-IDF and CountVectorizer, which are essential for machine learning models."
   ]
  },
  {
   "cell_type": "code",
   "execution_count": 1,
   "id": "a7ec6dc9",
   "metadata": {},
   "outputs": [],
   "source": [
    "# Importing Libraries\n",
    "import pandas as pd\n",
    "import numpy as np\n",
    "from sklearn.feature_extraction.text import CountVectorizer, TfidfVectorizer\n",
    "import pickle"
   ]
  },
  {
   "cell_type": "code",
   "execution_count": 7,
   "id": "5e669785",
   "metadata": {},
   "outputs": [
    {
     "name": "stdout",
     "output_type": "stream",
     "text": [
      "Index(['clean_tweet', 'class'], dtype='object')\n"
     ]
    }
   ],
   "source": [
    "import pandas as pd\n",
    "\n",
    "file_path = \"/Users/ratulmukherjee/Desktop/Hate Speech Detection/data/cleaned_data.csv\"\n",
    "df = pd.read_csv(file_path)\n",
    "\n",
    "# Show all column names\n",
    "print(df.columns)\n"
   ]
  },
  {
   "cell_type": "code",
   "execution_count": 11,
   "id": "12969a19",
   "metadata": {},
   "outputs": [
    {
     "data": {
      "text/html": [
       "<div>\n",
       "<style scoped>\n",
       "    .dataframe tbody tr th:only-of-type {\n",
       "        vertical-align: middle;\n",
       "    }\n",
       "\n",
       "    .dataframe tbody tr th {\n",
       "        vertical-align: top;\n",
       "    }\n",
       "\n",
       "    .dataframe thead th {\n",
       "        text-align: right;\n",
       "    }\n",
       "</style>\n",
       "<table border=\"1\" class=\"dataframe\">\n",
       "  <thead>\n",
       "    <tr style=\"text-align: right;\">\n",
       "      <th></th>\n",
       "      <th>clean_tweet</th>\n",
       "      <th>class</th>\n",
       "    </tr>\n",
       "  </thead>\n",
       "  <tbody>\n",
       "    <tr>\n",
       "      <th>0</th>\n",
       "      <td>rt woman shouldnt complain cleaning house amp ...</td>\n",
       "      <td>2</td>\n",
       "    </tr>\n",
       "    <tr>\n",
       "      <th>1</th>\n",
       "      <td>rt boy dat coldtyga dwn bad cuffin dat hoe st ...</td>\n",
       "      <td>1</td>\n",
       "    </tr>\n",
       "    <tr>\n",
       "      <th>2</th>\n",
       "      <td>rt dawg rt ever fuck bitch start cry confused ...</td>\n",
       "      <td>1</td>\n",
       "    </tr>\n",
       "    <tr>\n",
       "      <th>3</th>\n",
       "      <td>rt look like tranny</td>\n",
       "      <td>1</td>\n",
       "    </tr>\n",
       "    <tr>\n",
       "      <th>4</th>\n",
       "      <td>rt shit hear might true might faker bitch told ya</td>\n",
       "      <td>1</td>\n",
       "    </tr>\n",
       "  </tbody>\n",
       "</table>\n",
       "</div>"
      ],
      "text/plain": [
       "                                         clean_tweet  class\n",
       "0  rt woman shouldnt complain cleaning house amp ...      2\n",
       "1  rt boy dat coldtyga dwn bad cuffin dat hoe st ...      1\n",
       "2  rt dawg rt ever fuck bitch start cry confused ...      1\n",
       "3                                rt look like tranny      1\n",
       "4  rt shit hear might true might faker bitch told ya      1"
      ]
     },
     "execution_count": 11,
     "metadata": {},
     "output_type": "execute_result"
    }
   ],
   "source": [
    "# Loading Cleaned Data\n",
    "file_path = \"/Users/ratulmukherjee/Desktop/Hate Speech Detection/data/cleaned_data.csv\"\n",
    "df = pd.read_csv(file_path)\n",
    "\n",
    "# Assuming the cleaned tweet is stored in 'clean_text' and target in 'class'\n",
    "df = df[['clean_tweet', 'class']]\n",
    "df.head()"
   ]
  },
  {
   "cell_type": "code",
   "execution_count": 12,
   "id": "5fd8ce0b",
   "metadata": {},
   "outputs": [],
   "source": [
    "# Separating Features an Target\n",
    "# Feature: clean_tweet\n",
    "# Target: class\n",
    "X_text = df['clean_tweet']\n",
    "y = df['class']"
   ]
  },
  {
   "cell_type": "code",
   "execution_count": 15,
   "id": "043ecc66",
   "metadata": {},
   "outputs": [],
   "source": [
    "# TF-IDF Vectorization\n",
    "# Creating TF-IDF Vectorizer\n",
    "tfidf = TfidfVectorizer(stop_words='english', max_features=5000)\n",
    "\n",
    "# Fitting and transforming the clean tweets\n",
    "X_text = X_text.fillna(\"\")\n",
    "X = tfidf.fit_transform(X_text)\n"
   ]
  },
  {
   "cell_type": "code",
   "execution_count": 16,
   "id": "bba9cb3f",
   "metadata": {},
   "outputs": [
    {
     "name": "stdout",
     "output_type": "stream",
     "text": [
      "TF-IDF Matrix Shape: (24783, 5000)\n"
     ]
    }
   ],
   "source": [
    "# Checking Resulting Shape\n",
    "print(\"TF-IDF Matrix Shape:\", X.shape)"
   ]
  },
  {
   "cell_type": "code",
   "execution_count": 17,
   "id": "21c8d32b",
   "metadata": {},
   "outputs": [
    {
     "data": {
      "text/plain": [
       "['/Users/ratulmukherjee/Desktop/Hate Speech Detection/data/tfidf_vectorizer.pkl']"
      ]
     },
     "execution_count": 17,
     "metadata": {},
     "output_type": "execute_result"
    }
   ],
   "source": [
    "# Saving the Vectorized Data\n",
    "import joblib\n",
    "\n",
    "# Save TF-IDF vectorizer for use in prediction\n",
    "joblib.dump(tfidf, '/Users/ratulmukherjee/Desktop/Hate Speech Detection/data/tfidf_vectorizer.pkl')"
   ]
  }
 ],
 "metadata": {
  "kernelspec": {
   "display_name": "base",
   "language": "python",
   "name": "python3"
  },
  "language_info": {
   "codemirror_mode": {
    "name": "ipython",
    "version": 3
   },
   "file_extension": ".py",
   "mimetype": "text/x-python",
   "name": "python",
   "nbconvert_exporter": "python",
   "pygments_lexer": "ipython3",
   "version": "3.13.5"
  }
 },
 "nbformat": 4,
 "nbformat_minor": 5
}
