{
 "cells": [
  {
   "cell_type": "markdown",
   "id": "d43c50f1",
   "metadata": {},
   "source": [
    "### 🔴 Model Training -\n",
    "1. Loading the vectorized data\n",
    "2. Training multiple machine learning classifiers\n",
    "3. Evaluating each model\n",
    "4. Saving the best one\n"
   ]
  },
  {
   "cell_type": "code",
   "execution_count": 13,
   "id": "2f8a4222",
   "metadata": {},
   "outputs": [],
   "source": [
    "# Importing Libraries\n",
    "import pandas as pd\n",
    "import joblib\n",
    "\n",
    "from sklearn.model_selection import train_test_split\n",
    "from sklearn.metrics import classification_report, confusion_matrix, accuracy_score\n",
    "\n",
    "from sklearn.naive_bayes import MultinomialNB\n",
    "from sklearn.linear_model import LogisticRegression\n",
    "from sklearn.svm import LinearSVC\n",
    "from sklearn.ensemble import RandomForestClassifier"
   ]
  },
  {
   "cell_type": "code",
   "execution_count": 14,
   "id": "586b3714",
   "metadata": {},
   "outputs": [],
   "source": [
    "# Loading Preprocessed Data\n",
    "# Load cleaned data\n",
    "df = pd.read_csv(\"/Users/ratulmukherjee/Desktop/Hate Speech Detection/data/cleaned_data.csv\")\n",
    "\n",
    "# Load vectorizer\n",
    "tfidf = joblib.load(\"/Users/ratulmukherjee/Desktop/Hate Speech Detection/data/tfidf_vectorizer.pkl\")\n",
    "\n",
    "# Transform clean tweets into TF-IDF features\n",
    "X = tfidf.transform(df['clean_tweet'].fillna(\"\"))\n",
    "y = df['class']"
   ]
  },
  {
   "cell_type": "code",
   "execution_count": 15,
   "id": "2d4246c0",
   "metadata": {},
   "outputs": [],
   "source": [
    "# Train - Test Split\n",
    "X_train, X_test, y_train, y_test = train_test_split(\n",
    "    X, y, test_size=0.2, stratify=y, random_state=42\n",
    ")"
   ]
  },
  {
   "cell_type": "markdown",
   "id": "b0bfea6a",
   "metadata": {},
   "source": [
    "### Training Multiple Models -"
   ]
  },
  {
   "cell_type": "code",
   "execution_count": 16,
   "id": "524118bf",
   "metadata": {},
   "outputs": [
    {
     "name": "stdout",
     "output_type": "stream",
     "text": [
      "Naive Bayes Accuracy: 0.834375630421626\n"
     ]
    }
   ],
   "source": [
    "# 1. Multinomial Naive Bayes\n",
    "nb = MultinomialNB()\n",
    "nb.fit(X_train, y_train)\n",
    "y_pred_nb = nb.predict(X_test)\n",
    "print(\"Naive Bayes Accuracy:\", accuracy_score(y_test, y_pred_nb))\n"
   ]
  },
  {
   "cell_type": "code",
   "execution_count": 17,
   "id": "06c7bfb1",
   "metadata": {},
   "outputs": [
    {
     "name": "stdout",
     "output_type": "stream",
     "text": [
      "Logistic Regression Accuracy: 0.8946943715957232\n"
     ]
    }
   ],
   "source": [
    "# 2. Logistic Regression\n",
    "lr = LogisticRegression(max_iter=1000)\n",
    "lr.fit(X_train, y_train)\n",
    "y_pred_lr = lr.predict(X_test)\n",
    "print(\"Logistic Regression Accuracy:\", accuracy_score(y_test, y_pred_lr))"
   ]
  },
  {
   "cell_type": "code",
   "execution_count": 18,
   "id": "7267467a",
   "metadata": {},
   "outputs": [
    {
     "name": "stdout",
     "output_type": "stream",
     "text": [
      "SVM Accuracy: 0.8842041557393585\n"
     ]
    }
   ],
   "source": [
    "# 3. Support Vector Machine (LinearSVC)\n",
    "svm = LinearSVC()\n",
    "svm.fit(X_train, y_train)\n",
    "y_pred_svm = svm.predict(X_test)\n",
    "print(\"SVM Accuracy:\", accuracy_score(y_test, y_pred_svm))"
   ]
  },
  {
   "cell_type": "code",
   "execution_count": 19,
   "id": "abb53c9e",
   "metadata": {},
   "outputs": [
    {
     "name": "stdout",
     "output_type": "stream",
     "text": [
      "Random Forest Accuracy: 0.8959047811176114\n"
     ]
    }
   ],
   "source": [
    "# 4. Random Forest\n",
    "rf = RandomForestClassifier(n_estimators=100)\n",
    "rf.fit(X_train, y_train)\n",
    "y_pred_rf = rf.predict(X_test)\n",
    "print(\"Random Forest Accuracy:\", accuracy_score(y_test, y_pred_rf))"
   ]
  },
  {
   "cell_type": "code",
   "execution_count": 20,
   "id": "821a0e3a",
   "metadata": {},
   "outputs": [
    {
     "name": "stdout",
     "output_type": "stream",
     "text": [
      "\n",
      "=== Naive Bayes ===\n",
      "Accuracy: 0.834375630421626\n",
      "Confusion Matrix:\n",
      " [[   3  270   13]\n",
      " [   2 3805   31]\n",
      " [   0  505  328]]\n",
      "Classification Report:\n",
      "               precision    recall  f1-score   support\n",
      "\n",
      "           0       0.60      0.01      0.02       286\n",
      "           1       0.83      0.99      0.90      3838\n",
      "           2       0.88      0.39      0.54       833\n",
      "\n",
      "    accuracy                           0.83      4957\n",
      "   macro avg       0.77      0.47      0.49      4957\n",
      "weighted avg       0.83      0.83      0.79      4957\n",
      "\n",
      "\n",
      "=== Logistic Regression ===\n",
      "Accuracy: 0.8946943715957232\n",
      "Confusion Matrix:\n",
      " [[  49  214   23]\n",
      " [  27 3702  109]\n",
      " [   1  148  684]]\n",
      "Classification Report:\n",
      "               precision    recall  f1-score   support\n",
      "\n",
      "           0       0.64      0.17      0.27       286\n",
      "           1       0.91      0.96      0.94      3838\n",
      "           2       0.84      0.82      0.83       833\n",
      "\n",
      "    accuracy                           0.89      4957\n",
      "   macro avg       0.80      0.65      0.68      4957\n",
      "weighted avg       0.88      0.89      0.88      4957\n",
      "\n",
      "\n",
      "=== SVM ===\n",
      "Accuracy: 0.8842041557393585\n",
      "Confusion Matrix:\n",
      " [[  68  197   21]\n",
      " [  52 3659  127]\n",
      " [   9  168  656]]\n",
      "Classification Report:\n",
      "               precision    recall  f1-score   support\n",
      "\n",
      "           0       0.53      0.24      0.33       286\n",
      "           1       0.91      0.95      0.93      3838\n",
      "           2       0.82      0.79      0.80       833\n",
      "\n",
      "    accuracy                           0.88      4957\n",
      "   macro avg       0.75      0.66      0.69      4957\n",
      "weighted avg       0.87      0.88      0.87      4957\n",
      "\n",
      "\n",
      "=== Random Forest ===\n",
      "Accuracy: 0.8959047811176114\n",
      "Confusion Matrix:\n",
      " [[  41  217   28]\n",
      " [  29 3660  149]\n",
      " [   1   92  740]]\n",
      "Classification Report:\n",
      "               precision    recall  f1-score   support\n",
      "\n",
      "           0       0.58      0.14      0.23       286\n",
      "           1       0.92      0.95      0.94      3838\n",
      "           2       0.81      0.89      0.85       833\n",
      "\n",
      "    accuracy                           0.90      4957\n",
      "   macro avg       0.77      0.66      0.67      4957\n",
      "weighted avg       0.88      0.90      0.88      4957\n",
      "\n"
     ]
    }
   ],
   "source": [
    "# Model Evaluation\n",
    "def evaluate_model(name, y_true, y_pred):\n",
    "    print(f\"\\n=== {name} ===\")\n",
    "    print(\"Accuracy:\", accuracy_score(y_true, y_pred))\n",
    "    print(\"Confusion Matrix:\\n\", confusion_matrix(y_true, y_pred))\n",
    "    print(\"Classification Report:\\n\", classification_report(y_true, y_pred))\n",
    "\n",
    "evaluate_model(\"Naive Bayes\", y_test, y_pred_nb)\n",
    "evaluate_model(\"Logistic Regression\", y_test, y_pred_lr)\n",
    "evaluate_model(\"SVM\", y_test, y_pred_svm)\n",
    "evaluate_model(\"Random Forest\", y_test, y_pred_rf)"
   ]
  },
  {
   "cell_type": "code",
   "execution_count": 21,
   "id": "e73ace18",
   "metadata": {},
   "outputs": [
    {
     "data": {
      "text/plain": [
       "['/Users/ratulmukherjee/Desktop/Hate Speech Detection/data/best_model_rf.pkl']"
      ]
     },
     "execution_count": 21,
     "metadata": {},
     "output_type": "execute_result"
    }
   ],
   "source": [
    "# Saving the best model, here - Random Forest\n",
    "joblib.dump(rf, \"/Users/ratulmukherjee/Desktop/Hate Speech Detection/data/best_model_rf.pkl\")\n"
   ]
  }
 ],
 "metadata": {
  "kernelspec": {
   "display_name": "base",
   "language": "python",
   "name": "python3"
  },
  "language_info": {
   "codemirror_mode": {
    "name": "ipython",
    "version": 3
   },
   "file_extension": ".py",
   "mimetype": "text/x-python",
   "name": "python",
   "nbconvert_exporter": "python",
   "pygments_lexer": "ipython3",
   "version": "3.13.5"
  }
 },
 "nbformat": 4,
 "nbformat_minor": 5
}
